{
 "cells": [
  {
   "cell_type": "code",
   "execution_count": 1,
   "metadata": {
    "ExecuteTime": {
     "end_time": "2018-12-24T03:18:52.378311Z",
     "start_time": "2018-12-24T03:18:51.952764Z"
    }
   },
   "outputs": [
    {
     "name": "stdout",
     "output_type": "stream",
     "text": [
      "============================================================\n",
      "Platform - Name:  Apple\n",
      "Platform - Vendor:  Apple\n",
      "Platform - Version:  OpenCL 1.2 (Oct 29 2018 21:43:16)\n",
      "Platform - Profile:  FULL_PROFILE\n",
      "    --------------------------------------------------------\n",
      "    Device - Name:  Intel(R) Core(TM) i5-6267U CPU @ 2.90GHz\n",
      "    Device - Type:  CPU\n",
      "    Device - Max Clock Speed:  2900 Mhz\n",
      "    Device - Compute Units:  4\n",
      "    Device - Local Memory:  32 KB\n",
      "    Device - Constant Memory:  64 KB\n",
      "    Device - Global Memory: 8 GB\n",
      "    Device - Max Buffer/Image Size: 2048 MB\n",
      "    Device - Max Work Group Size: 1024\n",
      "    --------------------------------------------------------\n",
      "    Device - Name:  Intel(R) Iris(TM) Graphics 550\n",
      "    Device - Type:  GPU\n",
      "    Device - Max Clock Speed:  1050 Mhz\n",
      "    Device - Compute Units:  48\n",
      "    Device - Local Memory:  64 KB\n",
      "    Device - Constant Memory:  64 KB\n",
      "    Device - Global Memory: 2 GB\n",
      "    Device - Max Buffer/Image Size: 384 MB\n",
      "    Device - Max Work Group Size: 256\n",
      "\n",
      "\n",
      "<pyopencl.Device 'Intel(R) Iris(TM) Graphics 550' on 'Apple' at 0x1024500>\n"
     ]
    }
   ],
   "source": [
    "import pyopencl as cl  # Import the OpenCL GPU computing API\n",
    "import pyopencl.array as pycl_array  # Import PyOpenCL Array (a Numpy array plus an OpenCL buffer object)\n",
    "import numpy as np  # Import Numpy number tools\n",
    "from pyopencl import array as clarray\n",
    "for platform in cl.get_platforms():\n",
    "    print('=' * 60)\n",
    "    print('Platform - Name:  ' + platform.name)\n",
    "    print('Platform - Vendor:  ' + platform.vendor)\n",
    "    print('Platform - Version:  ' + platform.version)\n",
    "    print('Platform - Profile:  ' + platform.profile)\n",
    "    # Print each device per-platform\n",
    "    for device in platform.get_devices():\n",
    "        print('    ' + '-' * 56)\n",
    "        print('    Device - Name:  ' + device.name)\n",
    "        print('    Device - Type:  ' + cl.device_type.to_string(device.type))\n",
    "        print('    Device - Max Clock Speed:  {0} Mhz'.format(device.max_clock_frequency))\n",
    "        print('    Device - Compute Units:  {0}'.format(device.max_compute_units))\n",
    "        print('    Device - Local Memory:  {0:.0f} KB'.format(device.local_mem_size/1024.0))\n",
    "        print('    Device - Constant Memory:  {0:.0f} KB'.format(device.max_constant_buffer_size/1024.0))\n",
    "        print('    Device - Global Memory: {0:.0f} GB'.format(device.global_mem_size/1073741824.0))\n",
    "        print('    Device - Max Buffer/Image Size: {0:.0f} MB'.format(device.max_mem_alloc_size/1048576.0))\n",
    "        print('    Device - Max Work Group Size: {0:.0f}'.format(device.max_work_group_size))\n",
    "print('\\n')\n",
    "platform = cl.get_platforms()[0]  # Select the first platform [0]\n",
    "device = platform.get_devices()[1]  # Select the first device on this platform [0]\n",
    "print(device)\n",
    "context = cl.Context([device])\n",
    "#context = cl.create_some_context()  # Initialize the Context\n",
    "queue = cl.CommandQueue(context)  # Instantiate a Queue"
   ]
  },
  {
   "cell_type": "code",
   "execution_count": 2,
   "metadata": {
    "ExecuteTime": {
     "end_time": "2018-12-24T03:18:54.926547Z",
     "start_time": "2018-12-24T03:18:53.883747Z"
    }
   },
   "outputs": [
    {
     "name": "stderr",
     "output_type": "stream",
     "text": [
      "/Users/aadebuger/GEXT/openclvenv3/lib/python3.6/site-packages/pyopencl/__init__.py:233: CompilerWarning: Non-empty compiler output encountered. Set the environment variable PYOPENCL_COMPILER_OUTPUT=1 to see more.\n",
      "  \"to see more.\", CompilerWarning)\n"
     ]
    }
   ],
   "source": [
    "program = cl.Program(context, \"\"\"\n",
    "#ifdef cl_khr_byte_addressable_store\n",
    "#pragma OPENCL EXTENSION cl_khr_byte_addressable_store : disable\n",
    "#endif\n",
    "\n",
    "#ifdef cl_nv_pragma_unroll\n",
    "#define NVIDIA\n",
    "#pragma OPENCL EXTENSION cl_nv_pragma_unroll : enable\n",
    "#endif\n",
    "\n",
    "#ifdef NVIDIA\n",
    "inline uint SWAP32(uint x)\n",
    "{\n",
    "\tx = rotate(x, 16U);\n",
    "\treturn ((x & 0x00FF00FF) << 8) + ((x >> 8) & 0x00FF00FF);\n",
    "}\n",
    "#else\n",
    "#define SWAP32(a)\t(as_uint(as_uchar4(a).wzyx))\n",
    "#endif\n",
    "\n",
    "#define K0  0x5A827999\n",
    "#define K1  0x6ED9EBA1\n",
    "#define K2  0x8F1BBCDC\n",
    "#define K3  0xCA62C1D6\n",
    "\n",
    "#define H1 0x67452301\n",
    "#define H2 0xEFCDAB89\n",
    "#define H3 0x98BADCFE\n",
    "#define H4 0x10325476\n",
    "#define H5 0xC3D2E1F0\n",
    "\n",
    "#ifndef uint32_t\n",
    "#define uint32_t unsigned int\n",
    "#endif\n",
    "\n",
    "uint32_t SHA1CircularShift(int bits, uint32_t word)\n",
    "{\n",
    "\treturn ((word << bits) & 0xFFFFFFFF) | (word) >> (32 - (bits));\n",
    "}\n",
    "\n",
    "__kernel void sha1_crypt_kernel(__global uint *data_info,__global char *plain_key,  __global uint *digest){\n",
    "    int t, gid, msg_pad;\n",
    "    int stop, mmod;\n",
    "    uint i, ulen, item, total;\n",
    "    uint W[80], temp, A,B,C,D,E;\n",
    "    uint num_keys = data_info[1];\n",
    "\tint current_pad;\n",
    "\n",
    "\tmsg_pad=0;\n",
    "\n",
    "\tulen = data_info[2];\n",
    "\ttotal = ulen%64>=56?2:1 + ulen/64;\n",
    "\n",
    "\n",
    "\n",
    "    digest[0] = 0x67452301;\n",
    "\tdigest[1] = 0xEFCDAB89;\n",
    "\tdigest[2] = 0x98BADCFE;\n",
    "\tdigest[3] = 0x10325476;\n",
    "\tdigest[4] = 0xC3D2E1F0;\n",
    "\tfor(item=0; item<total; item++)\n",
    "\t{\n",
    "\n",
    "\t\tA = digest[0];\n",
    "\t\tB = digest[1];\n",
    "\t\tC = digest[2];\n",
    "\t\tD = digest[3];\n",
    "\t\tE = digest[4];\n",
    "\n",
    "\t#pragma unroll\n",
    "\t\tfor (t = 0; t < 80; t++){\n",
    "\t\tW[t] = 0x00000000;\n",
    "\t\t}\n",
    "\t\tmsg_pad=item*64;\n",
    "\t\tif(ulen > msg_pad)\n",
    "\t\t{\n",
    "\t\t\tcurrent_pad = (ulen-msg_pad)>64?64:(ulen-msg_pad);\n",
    "\t\t}\n",
    "\t\telse\n",
    "\t\t{\n",
    "\t\t\tcurrent_pad =-1;\t\t\n",
    "\t\t}\n",
    "\n",
    "\t\n",
    "\t\tif(current_pad>0)\n",
    "\t\t{\n",
    "\t\t\ti=current_pad;\n",
    "\n",
    "\t\t\tstop =  i/4;\n",
    "\t\t\t\n",
    "\t\t\tfor (t = 0 ; t < stop ; t++){\n",
    "\t\t\t\tW[t] = ((uchar)  plain_key[msg_pad + t * 4]) << 24;\n",
    "\t\t\t\tW[t] |= ((uchar) plain_key[msg_pad + t * 4 + 1]) << 16;\n",
    "\t\t\t\tW[t] |= ((uchar) plain_key[msg_pad + t * 4 + 2]) << 8;\n",
    "\t\t\t\tW[t] |= (uchar)  plain_key[msg_pad + t * 4 + 3];\n",
    "\t\t\t\n",
    "\t\t\t}\n",
    "\t\t\tmmod = i % 4;\n",
    "\t\t\tif ( mmod == 3){\n",
    "\t\t\t\tW[t] = ((uchar)  plain_key[msg_pad + t * 4]) << 24;\n",
    "\t\t\t\tW[t] |= ((uchar) plain_key[msg_pad + t * 4 + 1]) << 16;\n",
    "\t\t\t\tW[t] |= ((uchar) plain_key[msg_pad + t * 4 + 2]) << 8;\n",
    "\t\t\t\tW[t] |=  ((uchar) 0x80) ;\n",
    "\t\t\t} else if (mmod == 2) {\n",
    "\t\t\t\tW[t] = ((uchar)  plain_key[msg_pad + t * 4]) << 24;\n",
    "\t\t\t\tW[t] |= ((uchar) plain_key[msg_pad + t * 4 + 1]) << 16;\n",
    "\t\t\t\tW[t] |=  0x8000 ;\n",
    "\t\t\t} else if (mmod == 1) {\n",
    "\t\t\t\tW[t] = ((uchar)  plain_key[msg_pad + t * 4]) << 24;\n",
    "\t\t\t\tW[t] |=  0x800000 ;\n",
    "\t\t\t} else /*if (mmod == 0)*/ {\n",
    "\t\t\t\tW[t] =  0x80000000 ;\n",
    "\t\t\t}\n",
    "\t\t\t\n",
    "\t\t\tif (current_pad<56)\n",
    "\t\t\t{\n",
    "\t\t\t\tW[15] =  ulen*8 ;\n",
    "\t\t\t\n",
    "\t\t\t}\n",
    "\t\t}\n",
    "\t\telse if(current_pad <0)\n",
    "\t\t{\n",
    "\t\t\tif( ulen%64==0)\n",
    "\t\t\t\tW[0]=0x80000000;\n",
    "\t\t\tW[15]=ulen*8;\n",
    "\t\t\n",
    "\t\t}\n",
    "\n",
    "\t\t\n",
    "\n",
    "\t\tfor (t = 16; t < 80; t++)\n",
    "\t\t{\n",
    "\t\t\tW[t] = SHA1CircularShift(1, W[t - 3] ^ W[t - 8] ^ W[t - 14] ^ W[t - 16]);\n",
    "\t\t}\n",
    "\n",
    "\t\tfor (t = 0; t < 20; t++)\n",
    "\t\t{\n",
    "\t\t\ttemp = SHA1CircularShift(5, A) +\n",
    "\t\t\t\t((B & C) | ((~B) & D)) + E + W[t] + K0;\n",
    "\t\t\ttemp &= 0xFFFFFFFF;\n",
    "\t\t\tE = D;\n",
    "\t\t\tD = C;\n",
    "\t\t\tC = SHA1CircularShift(30, B);\n",
    "\t\t\tB = A;\n",
    "\t\t\tA = temp;\n",
    "\t\t}\n",
    "\n",
    "\t\tfor (t = 20; t < 40; t++)\n",
    "\t\t{\n",
    "\t\t\ttemp = SHA1CircularShift(5, A) + (B ^ C ^ D) + E + W[t] + K1;\n",
    "\t\t\ttemp &= 0xFFFFFFFF;\n",
    "\t\t\tE = D;\n",
    "\t\t\tD = C;\n",
    "\t\t\tC = SHA1CircularShift(30, B);\n",
    "\t\t\tB = A;\n",
    "\t\t\tA = temp;\n",
    "\t\t}\n",
    "\n",
    "\t\tfor (t = 40; t < 60; t++)\n",
    "\t\t{\n",
    "\t\t\ttemp = SHA1CircularShift(5, A) +\n",
    "\t\t\t\t((B & C) | (B & D) | (C & D)) + E + W[t] + K2;\n",
    "\t\t\ttemp &= 0xFFFFFFFF;\n",
    "\t\t\tE = D;\n",
    "\t\t\tD = C;\n",
    "\t\t\tC = SHA1CircularShift(30, B);\n",
    "\t\t\tB = A;\n",
    "\t\t\tA = temp;\n",
    "\t\t}\n",
    "\n",
    "\t\tfor (t = 60; t < 80; t++)\n",
    "\t\t{\n",
    "\t\t\ttemp = SHA1CircularShift(5, A) + (B ^ C ^ D) + E + W[t] + K3;\n",
    "\t\t\ttemp &= 0xFFFFFFFF;\n",
    "\t\t\tE = D;\n",
    "\t\t\tD = C;\n",
    "\t\t\tC = SHA1CircularShift(30, B);\n",
    "\t\t\tB = A;\n",
    "\t\t\tA = temp;\n",
    "\t\t}\n",
    "\n",
    "\t\tdigest[0] = (digest[0] + A) & 0xFFFFFFFF;\n",
    "\t\tdigest[1] = (digest[1] + B) & 0xFFFFFFFF;\n",
    "\t\tdigest[2] = (digest[2] + C) & 0xFFFFFFFF;\n",
    "\t\tdigest[3] = (digest[3] + D) & 0xFFFFFFFF;\n",
    "\t\tdigest[4] = (digest[4] + E) & 0xFFFFFFFF;\n",
    "\n",
    "\n",
    "\t}\n",
    "}\"\"\").build()  # Create the OpenCL program"
   ]
  },
  {
   "cell_type": "code",
   "execution_count": 34,
   "metadata": {
    "ExecuteTime": {
     "end_time": "2018-12-24T04:04:04.344582Z",
     "start_time": "2018-12-24T04:04:04.335044Z"
    }
   },
   "outputs": [
    {
     "name": "stderr",
     "output_type": "stream",
     "text": [
      "/Users/aadebuger/GEXT/openclvenv3/lib/python3.6/site-packages/ipykernel_launcher.py:3: DeprecationWarning: The binary mode of fromstring is deprecated, as it behaves surprisingly on unicode inputs. Use frombuffer instead\n",
      "  This is separate from the ipykernel package so we can avoid doing imports until\n"
     ]
    }
   ],
   "source": [
    "b0 = np.array([0x61,0x0], dtype=np.byte)\n",
    "text='a'\n",
    "b0=np.fromstring(text, dtype=np.byte)\n",
    "b=pycl_array.to_device(queue,b0)"
   ]
  },
  {
   "cell_type": "code",
   "execution_count": 35,
   "metadata": {
    "ExecuteTime": {
     "end_time": "2018-12-24T04:04:04.972226Z",
     "start_time": "2018-12-24T04:04:04.967504Z"
    }
   },
   "outputs": [],
   "source": [
    "a0=np.array([0x40,0x5,len(text)],dtype=np.int32)\n",
    "a=pycl_array.to_device(queue,a0)"
   ]
  },
  {
   "cell_type": "code",
   "execution_count": 36,
   "metadata": {
    "ExecuteTime": {
     "end_time": "2018-12-24T04:04:08.537613Z",
     "start_time": "2018-12-24T04:04:08.527814Z"
    }
   },
   "outputs": [],
   "source": [
    "c = clarray.empty(queue, (5,), np.int32)"
   ]
  },
  {
   "cell_type": "code",
   "execution_count": 37,
   "metadata": {
    "ExecuteTime": {
     "end_time": "2018-12-24T04:04:09.595697Z",
     "start_time": "2018-12-24T04:04:09.579119Z"
    }
   },
   "outputs": [
    {
     "data": {
      "text/plain": [
       "<pyopencl._cl.Event at 0x1155dd938>"
      ]
     },
     "execution_count": 37,
     "metadata": {},
     "output_type": "execute_result"
    }
   ],
   "source": [
    "program.sha1_crypt_kernel(queue,(10,), None,a.data,b.data,c.data)"
   ]
  },
  {
   "cell_type": "code",
   "execution_count": 7,
   "metadata": {
    "ExecuteTime": {
     "end_time": "2018-12-24T03:35:30.656336Z",
     "start_time": "2018-12-24T03:35:30.641739Z"
    }
   },
   "outputs": [
    {
     "name": "stdout",
     "output_type": "stream",
     "text": [
      "c: [  896145707  2031333452  1415007512 -1030928666   961816747]\n"
     ]
    }
   ],
   "source": [
    "print(\"c: {}\".format(c)) "
   ]
  },
  {
   "cell_type": "code",
   "execution_count": 8,
   "metadata": {
    "ExecuteTime": {
     "end_time": "2018-12-24T03:35:34.836118Z",
     "start_time": "2018-12-24T03:35:34.829125Z"
    }
   },
   "outputs": [
    {
     "name": "stdout",
     "output_type": "stream",
     "text": [
      "a: [64  5  1]\n"
     ]
    }
   ],
   "source": [
    "print(\"a: {}\".format(a))"
   ]
  },
  {
   "cell_type": "code",
   "execution_count": 9,
   "metadata": {
    "ExecuteTime": {
     "end_time": "2018-12-24T03:35:36.824322Z",
     "start_time": "2018-12-24T03:35:36.816423Z"
    }
   },
   "outputs": [
    {
     "name": "stdout",
     "output_type": "stream",
     "text": [
      "b: [49  0]\n"
     ]
    }
   ],
   "source": [
    "print(\"b: {}\".format(b))"
   ]
  },
  {
   "cell_type": "code",
   "execution_count": 10,
   "metadata": {
    "ExecuteTime": {
     "end_time": "2018-12-24T03:35:38.978081Z",
     "start_time": "2018-12-24T03:35:38.795256Z"
    }
   },
   "outputs": [
    {
     "ename": "TypeError",
     "evalue": "'Array' object cannot be interpreted as an integer",
     "output_type": "error",
     "traceback": [
      "\u001b[0;31m---------------------------------------------------------------------------\u001b[0m",
      "\u001b[0;31mTypeError\u001b[0m                                 Traceback (most recent call last)",
      "\u001b[0;32m<ipython-input-10-5fc76a9419f7>\u001b[0m in \u001b[0;36m<module>\u001b[0;34m\u001b[0m\n\u001b[0;32m----> 1\u001b[0;31m \u001b[0mprint\u001b[0m\u001b[0;34m(\u001b[0m\u001b[0mhex\u001b[0m\u001b[0;34m(\u001b[0m\u001b[0mc\u001b[0m\u001b[0;34m[\u001b[0m\u001b[0;36m0\u001b[0m\u001b[0;34m]\u001b[0m\u001b[0;34m)\u001b[0m\u001b[0;34m)\u001b[0m\u001b[0;34m\u001b[0m\u001b[0m\n\u001b[0m",
      "\u001b[0;31mTypeError\u001b[0m: 'Array' object cannot be interpreted as an integer"
     ]
    }
   ],
   "source": [
    "print(hex(c[0]))"
   ]
  },
  {
   "cell_type": "code",
   "execution_count": 28,
   "metadata": {
    "ExecuteTime": {
     "end_time": "2018-12-11T11:51:27.274781Z",
     "start_time": "2018-12-11T11:51:27.218979Z"
    }
   },
   "outputs": [
    {
     "ename": "TypeError",
     "evalue": "%x format: an integer is required, not Array",
     "output_type": "error",
     "traceback": [
      "\u001b[0;31m---------------------------------------------------------------------------\u001b[0m",
      "\u001b[0;31mTypeError\u001b[0m                                 Traceback (most recent call last)",
      "\u001b[0;32m<ipython-input-28-72283ad6e58b>\u001b[0m in \u001b[0;36m<module>\u001b[0;34m\u001b[0m\n\u001b[0;32m----> 1\u001b[0;31m \u001b[0mprint\u001b[0m\u001b[0;34m(\u001b[0m\u001b[0;34m\"%x\"\u001b[0m\u001b[0;34m%\u001b[0m\u001b[0;34m(\u001b[0m\u001b[0mc\u001b[0m\u001b[0;34m[\u001b[0m\u001b[0;36m0\u001b[0m\u001b[0;34m,\u001b[0m\u001b[0;34m]\u001b[0m\u001b[0;34m)\u001b[0m\u001b[0;34m)\u001b[0m\u001b[0;34m\u001b[0m\u001b[0m\n\u001b[0m",
      "\u001b[0;31mTypeError\u001b[0m: %x format: an integer is required, not Array"
     ]
    }
   ],
   "source": [
    "print(\"%x\"%(c[0,]))"
   ]
  },
  {
   "cell_type": "code",
   "execution_count": 20,
   "metadata": {
    "ExecuteTime": {
     "end_time": "2018-12-11T08:46:24.380664Z",
     "start_time": "2018-12-11T08:46:24.368338Z"
    }
   },
   "outputs": [
    {
     "ename": "TypeError",
     "evalue": "'Array' object cannot be interpreted as an integer",
     "output_type": "error",
     "traceback": [
      "\u001b[0;31m---------------------------------------------------------------------------\u001b[0m",
      "\u001b[0;31mTypeError\u001b[0m                                 Traceback (most recent call last)",
      "\u001b[0;32m<ipython-input-20-7bbf2f4dcb7e>\u001b[0m in \u001b[0;36m<module>\u001b[0;34m\u001b[0m\n\u001b[0;32m----> 1\u001b[0;31m \u001b[0mprint\u001b[0m\u001b[0;34m(\u001b[0m\u001b[0mbin\u001b[0m\u001b[0;34m(\u001b[0m\u001b[0mc\u001b[0m\u001b[0;34m[\u001b[0m\u001b[0;36m0\u001b[0m\u001b[0;34m]\u001b[0m\u001b[0;34m)\u001b[0m\u001b[0;34m)\u001b[0m\u001b[0;34m\u001b[0m\u001b[0m\n\u001b[0m",
      "\u001b[0;31mTypeError\u001b[0m: 'Array' object cannot be interpreted as an integer"
     ]
    }
   ],
   "source": [
    "print(bin(c[0]))"
   ]
  },
  {
   "cell_type": "code",
   "execution_count": 25,
   "metadata": {
    "ExecuteTime": {
     "end_time": "2018-12-11T08:49:28.370921Z",
     "start_time": "2018-12-11T08:49:28.365900Z"
    }
   },
   "outputs": [
    {
     "name": "stdout",
     "output_type": "stream",
     "text": [
      "0x64\n"
     ]
    }
   ],
   "source": [
    "print(hex(100))"
   ]
  },
  {
   "cell_type": "code",
   "execution_count": 27,
   "metadata": {
    "ExecuteTime": {
     "end_time": "2018-12-11T08:49:57.701490Z",
     "start_time": "2018-12-11T08:49:57.693612Z"
    }
   },
   "outputs": [
    {
     "name": "stdout",
     "output_type": "stream",
     "text": [
      "0x356a192b\n"
     ]
    }
   ],
   "source": [
    "print(hex(896145707))"
   ]
  },
  {
   "cell_type": "code",
   "execution_count": 34,
   "metadata": {
    "ExecuteTime": {
     "end_time": "2018-12-11T11:53:50.587134Z",
     "start_time": "2018-12-11T11:53:50.575219Z"
    },
    "scrolled": true
   },
   "outputs": [
    {
     "ename": "AttributeError",
     "evalue": "'Array' object has no attribute 'top'",
     "output_type": "error",
     "traceback": [
      "\u001b[0;31m---------------------------------------------------------------------------\u001b[0m",
      "\u001b[0;31mAttributeError\u001b[0m                            Traceback (most recent call last)",
      "\u001b[0;32m<ipython-input-34-e0c0e215b246>\u001b[0m in \u001b[0;36m<module>\u001b[0;34m\u001b[0m\n\u001b[0;32m----> 1\u001b[0;31m \u001b[0mprint\u001b[0m\u001b[0;34m(\u001b[0m\u001b[0mhex\u001b[0m\u001b[0;34m(\u001b[0m\u001b[0mc\u001b[0m\u001b[0;34m[\u001b[0m\u001b[0;36m0\u001b[0m\u001b[0;34m:\u001b[0m\u001b[0;36m1\u001b[0m\u001b[0;34m]\u001b[0m\u001b[0;34m.\u001b[0m\u001b[0mtop\u001b[0m\u001b[0;34m)\u001b[0m\u001b[0;34m)\u001b[0m\u001b[0;34m\u001b[0m\u001b[0m\n\u001b[0m",
      "\u001b[0;31mAttributeError\u001b[0m: 'Array' object has no attribute 'top'"
     ]
    }
   ],
   "source": [
    "print(hex(c[0:1].top))"
   ]
  },
  {
   "cell_type": "code",
   "execution_count": 30,
   "metadata": {
    "ExecuteTime": {
     "end_time": "2018-12-11T11:52:36.523859Z",
     "start_time": "2018-12-11T11:52:36.510503Z"
    }
   },
   "outputs": [
    {
     "ename": "AttributeError",
     "evalue": "'Array' object has no attribute 'type'",
     "output_type": "error",
     "traceback": [
      "\u001b[0;31m---------------------------------------------------------------------------\u001b[0m",
      "\u001b[0;31mAttributeError\u001b[0m                            Traceback (most recent call last)",
      "\u001b[0;32m<ipython-input-30-07e1978d8db4>\u001b[0m in \u001b[0;36m<module>\u001b[0;34m\u001b[0m\n\u001b[0;32m----> 1\u001b[0;31m \u001b[0mc\u001b[0m\u001b[0;34m[\u001b[0m\u001b[0;36m0\u001b[0m\u001b[0;34m]\u001b[0m\u001b[0;34m.\u001b[0m\u001b[0mtype\u001b[0m\u001b[0;34m\u001b[0m\u001b[0m\n\u001b[0m",
      "\u001b[0;31mAttributeError\u001b[0m: 'Array' object has no attribute 'type'"
     ]
    }
   ],
   "source": [
    "c[0].type\n"
   ]
  },
  {
   "cell_type": "code",
   "execution_count": 35,
   "metadata": {
    "ExecuteTime": {
     "end_time": "2018-12-11T12:01:04.881585Z",
     "start_time": "2018-12-11T12:01:04.874112Z"
    }
   },
   "outputs": [
    {
     "name": "stdout",
     "output_type": "stream",
     "text": [
      "c: [  896145707  2031333452  1415007512 -1030928666   961816747]\n"
     ]
    }
   ],
   "source": [
    "print(\"c: {}\".format(c)) "
   ]
  },
  {
   "cell_type": "code",
   "execution_count": 11,
   "metadata": {
    "ExecuteTime": {
     "end_time": "2018-12-24T03:35:50.683745Z",
     "start_time": "2018-12-24T03:35:50.672699Z"
    }
   },
   "outputs": [
    {
     "name": "stdout",
     "output_type": "stream",
     "text": [
      "896145707\n",
      "2031333452\n",
      "1415007512\n",
      "-1030928666\n",
      "961816747\n"
     ]
    }
   ],
   "source": [
    "for item in c:\n",
    "        print(item)"
   ]
  },
  {
   "cell_type": "code",
   "execution_count": 43,
   "metadata": {
    "ExecuteTime": {
     "end_time": "2018-12-11T12:15:15.287400Z",
     "start_time": "2018-12-11T12:15:15.260278Z"
    }
   },
   "outputs": [
    {
     "name": "stdout",
     "output_type": "stream",
     "text": [
      "[  896145707  2031333452  1415007512 -1030928666   961816747]\n"
     ]
    }
   ],
   "source": [
    "print(c.get())"
   ]
  },
  {
   "cell_type": "code",
   "execution_count": 27,
   "metadata": {
    "ExecuteTime": {
     "end_time": "2018-12-24T03:50:37.567481Z",
     "start_time": "2018-12-24T03:50:37.546936Z"
    }
   },
   "outputs": [
    {
     "name": "stdout",
     "output_type": "stream",
     "text": [
      "0x86f7e437\n",
      "0xfaa5a7fc\n",
      "0xe15d1ddc\n",
      "0xb9eaeaea\n",
      "0x377667b8\n"
     ]
    }
   ],
   "source": [
    "for item in c.get():\n",
    "        print(hex(item&0xffffffff))"
   ]
  },
  {
   "cell_type": "code",
   "execution_count": 28,
   "metadata": {
    "ExecuteTime": {
     "end_time": "2018-12-24T03:56:37.995810Z",
     "start_time": "2018-12-24T03:56:37.940480Z"
    }
   },
   "outputs": [
    {
     "ename": "ModuleNotFoundError",
     "evalue": "No module named 'binassci'",
     "output_type": "error",
     "traceback": [
      "\u001b[0;31m---------------------------------------------------------------------------\u001b[0m",
      "\u001b[0;31mModuleNotFoundError\u001b[0m                       Traceback (most recent call last)",
      "\u001b[0;32m<ipython-input-28-d3f65e6a4ee7>\u001b[0m in \u001b[0;36m<module>\u001b[0;34m\u001b[0m\n\u001b[0;32m----> 1\u001b[0;31m \u001b[0;32mimport\u001b[0m \u001b[0mbinassci\u001b[0m\u001b[0;34m\u001b[0m\u001b[0m\n\u001b[0m",
      "\u001b[0;31mModuleNotFoundError\u001b[0m: No module named 'binassci'"
     ]
    }
   ],
   "source": [
    "import binassci"
   ]
  },
  {
   "cell_type": "code",
   "execution_count": 38,
   "metadata": {
    "ExecuteTime": {
     "end_time": "2018-12-24T04:04:13.677332Z",
     "start_time": "2018-12-24T04:04:13.658597Z"
    }
   },
   "outputs": [
    {
     "name": "stdout",
     "output_type": "stream",
     "text": [
      "0x86f7e437\n",
      "0xfaa5a7fc\n",
      "0xe15d1ddc\n",
      "0xb9eaeaea\n",
      "0x377667b8\n"
     ]
    },
    {
     "data": {
      "text/plain": [
       "'86f7e437faa5a7fce15d1ddcb9eaeaea377667b8'"
      ]
     },
     "execution_count": 38,
     "metadata": {},
     "output_type": "execute_result"
    }
   ],
   "source": [
    "import binascii\n",
    "strlist=[]\n",
    "for item in c.get():\n",
    "        print(  hex(item&0xffffffff))\n",
    "        strlist.append(hex(item&0xffffffff)[2:])\n",
    "''.join(strlist)"
   ]
  },
  {
   "cell_type": "code",
   "execution_count": null,
   "metadata": {},
   "outputs": [],
   "source": []
  }
 ],
 "metadata": {
  "kernelspec": {
   "display_name": "Python 3",
   "language": "python",
   "name": "python3"
  },
  "language_info": {
   "codemirror_mode": {
    "name": "ipython",
    "version": 3
   },
   "file_extension": ".py",
   "mimetype": "text/x-python",
   "name": "python",
   "nbconvert_exporter": "python",
   "pygments_lexer": "ipython3",
   "version": "3.6.6"
  }
 },
 "nbformat": 4,
 "nbformat_minor": 2
}
